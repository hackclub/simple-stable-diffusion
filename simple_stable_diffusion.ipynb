{
  "cells": [
    {
      "cell_type": "markdown",
      "source": [
        "### Setup (I)\n",
        "\n",
        "Before running any of the below blocks, **follow these steps:**\n",
        "1. Create an account at https://huggingface.co\n",
        "2. Create an access token with write permissions at https://huggingface.co/settings/tokens\n",
        "3. Register that you agree to the terms at https://huggingface.co/CompVis/stable-diffusion-v1-4"
      ],
      "metadata": {
        "id": "rCQUegQeVsUY"
      }
    },
    {
      "cell_type": "markdown",
      "metadata": {
        "id": "QYOlvQ1nQL7c"
      },
      "source": [
        "### Setup (II)\n",
        "\n",
        "Make sure you are using a GPU runtime to run this notebook, so inference is much faster. If the following command fails, use the `Runtime` menu above and select `Change runtime type`."
      ]
    },
    {
      "cell_type": "code",
      "execution_count": null,
      "metadata": {
        "id": "zHkHsdtnry57"
      },
      "outputs": [],
      "source": [
        "!nvidia-smi"
      ]
    },
    {
      "cell_type": "markdown",
      "metadata": {
        "id": "paJt_cx5QgVz"
      },
      "source": [
        "Then **run each of the following blocks of code:**"
      ]
    },
    {
      "cell_type": "code",
      "execution_count": null,
      "metadata": {
        "id": "aIrgth7sqFML"
      },
      "outputs": [],
      "source": [
        "!pip install diffusers==0.2.4\n",
        "!pip install transformers scipy ftfy\n",
        "!pip install \"ipywidgets>=7,<8\"\n",
        "\n",
        "from google.colab import output\n",
        "output.enable_custom_widget_manager()\n",
        "\n",
        "from huggingface_hub import notebook_login\n",
        "\n",
        "notebook_login()"
      ]
    },
    {
      "cell_type": "code",
      "execution_count": null,
      "metadata": {
        "id": "xSKWBKFPArKS"
      },
      "outputs": [],
      "source": [
        "import torch\n",
        "from torch import autocast\n",
        "from diffusers import StableDiffusionPipeline\n",
        "\n",
        "pipe = StableDiffusionPipeline.from_pretrained(\"CompVis/stable-diffusion-v1-4\", revision=\"fp16\", torch_dtype=torch.float16, use_auth_token=True)\n",
        "pipe = pipe.to(\"cuda\")"
      ]
    },
    {
      "cell_type": "markdown",
      "source": [
        "### Generation\n",
        "\n",
        "And generate a single image with a given prompt here:"
      ],
      "metadata": {
        "id": "e70AUtdj0M9e"
      }
    },
    {
      "cell_type": "code",
      "execution_count": null,
      "metadata": {
        "id": "yEErJFjlrSWS"
      },
      "outputs": [],
      "source": [
        "prompt = \"hourly thoroughbred, a surrealist painting by Pablo Picasso, hypnotic, lovecraftian\" # <--- !!!\n",
        "\n",
        "with autocast(\"cuda\"):\n",
        "  image = pipe(prompt)[\"sample\"][0]\n",
        "\n",
        "image"
      ]
    },
    {
      "cell_type": "markdown",
      "metadata": {
        "id": "6ZcgsflpBoEM"
      },
      "source": [
        "If you want to generate a grid of images, **run this once:**"
      ]
    },
    {
      "cell_type": "code",
      "execution_count": null,
      "metadata": {
        "id": "REF_yuHprSa1"
      },
      "outputs": [],
      "source": [
        "from PIL import Image\n",
        "\n",
        "def image_grid(imgs, rows, cols):\n",
        "    assert len(imgs) == rows*cols\n",
        "\n",
        "    w, h = imgs[0].size\n",
        "    grid = Image.new('RGB', size=(cols*w, rows*h))\n",
        "    grid_w, grid_h = grid.size\n",
        "    \n",
        "    for i, img in enumerate(imgs):\n",
        "        grid.paste(img, box=(i%cols*w, i//cols*h))\n",
        "    return grid"
      ]
    },
    {
      "cell_type": "markdown",
      "source": [
        "Then to generate a grid of images with a given prompt:"
      ],
      "metadata": {
        "id": "AcHccTDWbQRU"
      }
    },
    {
      "cell_type": "code",
      "execution_count": null,
      "metadata": {
        "id": "Ylscg48YYxfF"
      },
      "outputs": [],
      "source": [
        "num_cols = 3\n",
        "num_rows = 1\n",
        "\n",
        "prompt = [\"a gorgeous screenshot of a website advertising delicious cans of disgusting inedible sludge, dribbble contest winner, inspirational, made of insects, Russia Today\"] * num_cols * num_rows # <--- !!!\n",
        "\n",
        "with autocast(\"cuda\"):\n",
        "  images = pipe(prompt)[\"sample\"]\n",
        "\n",
        "grid = image_grid(images, rows=num_rows, cols=num_cols)\n",
        "grid"
      ]
    },
    {
      "cell_type": "markdown",
      "metadata": {
        "id": "uf9pbS3kCsUf"
      },
      "source": [
        "### Generate non-square images\n",
        "\n",
        "Stable Diffusion produces images of `512 × 512` pixels by default. But it's very easy to override the default using the `height` and `width` arguments, so you can create rectangular images in portrait or landscape ratios.\n",
        "\n",
        "These are some recommendations to choose good image sizes:\n",
        "- Make sure `height` and `width` are both multiples of `8`.\n",
        "- Going below 512 might result in lower quality images.\n",
        "- Going over 512 in both directions will repeat image areas (global coherence is lost).\n",
        "- The best way to create non-square images is to use `512` in one dimension, and a value larger than that in the other one."
      ]
    },
    {
      "cell_type": "code",
      "execution_count": null,
      "metadata": {
        "id": "0SXnxd-ZrSfy"
      },
      "outputs": [],
      "source": [
        "prompt = \"a photograph of an astronaut riding a horse\"\n",
        "with autocast(\"cuda\"):\n",
        "  image = pipe(prompt, height=512, width=768)[\"sample\"][0]\n",
        "image"
      ]
    },
    {
      "cell_type": "markdown",
      "source": [
        "### Seed editing\n",
        "\n",
        "To see how a minor change to a prompt affects the output, use the same seed -- the output will look otherwise similar."
      ],
      "metadata": {
        "id": "-CTHmTXpQNNZ"
      }
    },
    {
      "cell_type": "code",
      "source": [
        "prompt = [\n",
        "    \"a poster advertising a can of blood, behance contest winner\",\n",
        "    \"a poster advertising a drink can of blood, behance contest winner\",\n",
        "    \"a poster advertising a drink can of blood, behance contest winner, chillwave\",\n",
        "    \"a poster advertising a drink can of blood, behance contest winner, photorealistic\",\n",
        "]\n",
        "\n",
        "with autocast(\"cuda\"):\n",
        "  images = pipe(prompt, seed=70)[\"sample\"]\n",
        "\n",
        "grid = image_grid(images, cols=len(prompt), rows=1)\n",
        "grid"
      ],
      "metadata": {
        "id": "NA4JyMefQe6b"
      },
      "execution_count": null,
      "outputs": []
    },
    {
      "cell_type": "markdown",
      "source": [
        "### How to get good images\n",
        "\n",
        "* Adjust and tinker with your prompt a lot\n",
        "  * It might take tens to hundreds of different prompts to consistently get the vibe you seek\n",
        "* Use this template if you don't know where to start: `[basic description of image], [medium] by [artist], [a lot of comma-separated descriptors]`\n",
        "  * The `[medium] by [artist]` part could be omitted\n",
        "  * Here's [a list of the sort of descriptors you would put at the end of prompts](https://github.com/pharmapsychotic/clip-interrogator/blob/main/data/flavors.txt)\n",
        "    * Pick maybe three to a dozen that seem fitting; as with everything else, adjust them a lot\n",
        "    * This repo [also has a list of artists and mediums](https://github.com/pharmapsychotic/clip-interrogator/blob/main/data)\n",
        "  * If you want examples of prompts like this, try [running images through img2prompt](https://replicate.com/methexis-inc/img2prompt)\n",
        "    * This image:\n",
        "    * ![sotruesingle.png](data:image/png;base64,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)\n",
        "    * ...run through img2prompt outputs this prompt: `a black and white logo with the words so true, a raytraced image by Karl Ballmer, reddit, letterism, epic, creative commons attribution, 20 megapixels`\n",
        "      * (Note that no reasonable person would describe this as a \"raytraced image\" or as \"20 megapixels\". Part of this is inaccuracy on the part of img2prompt; it is also evidence one *really* should experiment a lot)"
      ],
      "metadata": {
        "id": "pcP9XQxkmCDC"
      }
    }
  ],
  "metadata": {
    "accelerator": "GPU",
    "colab": {
      "collapsed_sections": [],
      "machine_shape": "hm",
      "provenance": []
    },
    "gpuClass": "standard",
    "kernelspec": {
      "display_name": "Python 3",
      "name": "python3"
    },
    "language_info": {
      "name": "python"
    }
  },
  "nbformat": 4,
  "nbformat_minor": 0
}